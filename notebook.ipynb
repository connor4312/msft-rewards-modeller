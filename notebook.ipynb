{
 "cells": [
  {
   "cell_type": "markdown",
   "source": [
    "# MSFT Rewards Modeller\r\n",
    "\r\n",
    "With the new Total Rewards portal, Microsoft no longer includes their detailed \"modeller\" to estimate your compensation over time. This notebook brings it back.\r\n",
    "\r\n",
    "## How to Use This\r\n",
    "\r\n",
    "1. Download VS Code and the Python extension, and open this notebook. (Or load this in any Jupyter environment...)\r\n",
    "1. Export your stocks from the \"Stocks\" tab in the Total Rewards portal, and place it as a file `StockExport.xlsx` beside this notebook\r\n",
    "1. Edit the constants and assumptions in the code cell below\r\n",
    "1. \"Run All\" cells. View the glorious data!"
   ],
   "metadata": {}
  },
  {
   "cell_type": "code",
   "execution_count": 1,
   "source": [
    "total_comp = 150_000               # Your current base salary\r\n",
    "current_msft_stock_price = 294.80  # aka.ms/stonks\r\n",
    "annual_merit_increase = 0.03       # Percent (in the range 0-1) of your annual merit increase\r\n",
    "annual_cash_bonus_pct = 0.20       # Percent (in the range 0-1) of your annual cash bonus\r\n",
    "annual_stock_award_pct = 0.20      # Percent (in the range 0-1) of your annual stock award\r\n",
    "assumed_annual_stock_growth = 0.07 # Assumed MSFT stock price increase. Average overall economic growth is around 7-8%/year\r\n",
    "projection_years = 4               # Number of years in the future to predict"
   ],
   "outputs": [],
   "metadata": {}
  },
  {
   "cell_type": "code",
   "execution_count": 2,
   "source": [
    "!pip install pandas openpyxl numpy_financial matplotlib"
   ],
   "outputs": [
    {
     "output_type": "stream",
     "name": "stdout",
     "text": [
      "Requirement already satisfied: pandas in c:\\programdata\\miniconda3\\lib\\site-packages (1.2.4)\n",
      "Requirement already satisfied: openpyxl in c:\\programdata\\miniconda3\\lib\\site-packages (3.0.7)\n",
      "Requirement already satisfied: numpy_financial in c:\\programdata\\miniconda3\\lib\\site-packages (1.0.0)\n",
      "Requirement already satisfied: matplotlib in c:\\programdata\\miniconda3\\lib\\site-packages (3.1.3)\n",
      "Requirement already satisfied: cycler>=0.10 in c:\\programdata\\miniconda3\\lib\\site-packages (from matplotlib) (0.10.0)\n",
      "Requirement already satisfied: kiwisolver>=1.0.1 in c:\\programdata\\miniconda3\\lib\\site-packages (from matplotlib) (1.3.1)\n",
      "Requirement already satisfied: python-dateutil>=2.1 in c:\\programdata\\miniconda3\\lib\\site-packages (from matplotlib) (2.8.1)\n",
      "Requirement already satisfied: pyparsing!=2.0.4,!=2.1.2,!=2.1.6,>=2.0.1 in c:\\programdata\\miniconda3\\lib\\site-packages (from matplotlib) (2.4.7)\n",
      "Requirement already satisfied: numpy>=1.11 in c:\\programdata\\miniconda3\\lib\\site-packages (from matplotlib) (1.18.1)\n",
      "Requirement already satisfied: six in c:\\programdata\\miniconda3\\lib\\site-packages (from cycler>=0.10->matplotlib) (1.15.0)\n",
      "Requirement already satisfied: et-xmlfile in c:\\programdata\\miniconda3\\lib\\site-packages (from openpyxl) (1.1.0)\n",
      "Requirement already satisfied: pytz>=2017.3 in c:\\programdata\\miniconda3\\lib\\site-packages (from pandas) (2020.1)\n"
     ]
    }
   ],
   "metadata": {}
  },
  {
   "cell_type": "code",
   "execution_count": 3,
   "source": [
    "from datetime import datetime, timedelta\r\n",
    "import numpy_financial as npf\r\n",
    "now = datetime.now()\r\n",
    "\r\n",
    "award_dates = [datetime(now.year + x, 9, 15) for x in range(projection_years + 1)]\r\n",
    "award_vesting_interval = timedelta(days=364 // 4)\r\n",
    "award_vesting_periods = 4 * 4\r\n",
    "modelled_years = [now.year + x for x in range(projection_years + 1)]\r\n",
    "\r\n",
    "if award_dates[0] < now:\r\n",
    "  award_dates = award_dates[1:]\r\n",
    "\r\n",
    "def stock_at_time(date):\r\n",
    "  return -npf.fv(pv=current_msft_stock_price, pmt=0, nper=(now - date).days / 30, rate=assumed_annual_stock_growth / -12.0)\r\n",
    "\r\n",
    "def salary_at_time(target_date):\r\n",
    "  award_periods = [d for d in award_dates if d > now and d < target_date]\r\n",
    "  return -npf.fv(pv=total_comp, pmt=0, nper=len(award_periods), rate=annual_merit_increase)"
   ],
   "outputs": [],
   "metadata": {}
  },
  {
   "cell_type": "code",
   "execution_count": 4,
   "source": [
    "import pandas as pd\r\n",
    "from datetime import datetime\r\n",
    "\r\n",
    "stock_export = pd.read_excel('StockExport.xlsx', sheet_name='Vest Schedules')\r\n",
    "vesting_stocks = []\r\n",
    "\r\n",
    "def append_vesting(vest_date, shares, predicted=False):\r\n",
    "  vesting_stocks.append({\r\n",
    "    'date': vest_date,\r\n",
    "    'shares': shares,\r\n",
    "    'predicted': predicted,\r\n",
    "    'est_price': stock_at_time(vest_date) * shares\r\n",
    "  })\r\n",
    "\r\n",
    "for index, row in stock_export.iterrows():\r\n",
    "  vest_date = pd.to_datetime(row['Vest Date'])\r\n",
    "  shares = row['Vest Shares']\r\n",
    "  append_vesting(vest_date, shares)\r\n",
    "\r\n",
    "for award_date in award_dates:\r\n",
    "  awarded = (salary_at_time(award_date) * annual_stock_award_pct) / stock_at_time(award_date)\r\n",
    "  for x in range(award_vesting_periods):\r\n",
    "    append_vesting(award_date + x * award_vesting_interval, awarded / award_vesting_periods, True)"
   ],
   "outputs": [],
   "metadata": {}
  },
  {
   "cell_type": "markdown",
   "source": [
    "## Vesting Stocks\n",
    "\n",
    "First, let's see how many stocks you have vesting, among those granted and predicted future grants."
   ],
   "metadata": {}
  },
  {
   "cell_type": "code",
   "execution_count": 5,
   "source": [
    "vests_per_year_group = {}\r\n",
    "for year in modelled_years:\r\n",
    "  vests_per_year_group[year] = { \"Year\": year, \"Predicted Grants\": 0, \"Current Grants\": 0 }\r\n",
    "\r\n",
    "for vest in vesting_stocks:\r\n",
    "  year = vest['date'].year\r\n",
    "  if year in vests_per_year_group:\r\n",
    "    if vest['predicted']:\r\n",
    "      vests_per_year_group[year][\"Predicted Grants\"] += vest['est_price']\r\n",
    "    else:\r\n",
    "      vests_per_year_group[year][\"Current Grants\"] += vest['est_price']\r\n",
    "\r\n",
    "\r\n",
    "vest_per_year = pd.DataFrame([v for k, v in vests_per_year_group.items()])\r\n",
    "vest_per_year.plot(x=0, y=[1, 2], kind=\"bar\", stacked=True)\r\n",
    "print(vest_per_year)"
   ],
   "outputs": [
    {
     "output_type": "stream",
     "name": "stdout",
     "text": [
      "   Year  Predicted Grants  Current Grants\n",
      "0  2021          0.000000    58280.404181\n",
      "1  2022       3783.571229    65498.002707\n",
      "2  2023      11879.259782    50210.036416\n",
      "3  2024      20805.029310    39518.602999\n",
      "4  2025      30628.980452    26966.598822\n"
     ]
    },
    {
     "output_type": "display_data",
     "data": {
      "image/png": "[encoded data removed]",
      "text/plain": [
       "<Figure size 432x288 with 1 Axes>"
      ]
     },
     "metadata": {
      "needs_background": "light"
     }
    }
   ],
   "metadata": {}
  },
  {
   "cell_type": "markdown",
   "source": [
    "## Cash Compensation\n",
    "\n",
    "Now let's figure out your bonus and annual comp."
   ],
   "metadata": {}
  },
  {
   "cell_type": "code",
   "execution_count": 6,
   "source": [
    "cash_calc_dates = [datetime(d, 12, 1) for d in modelled_years]\r\n",
    "cash_per_year = pd.DataFrame([{ \"Year\": d.year, \"Salary\": salary_at_time(d), \"Bonus\": salary_at_time(d) * annual_cash_bonus_pct } for d in cash_calc_dates])\r\n",
    "cash_per_year.plot(x=0, y=[1, 2], kind=\"bar\", stacked=True)\r\n",
    "print(cash_per_year)"
   ],
   "outputs": [
    {
     "output_type": "stream",
     "name": "stdout",
     "text": [
      "   Year       Salary       Bonus\n",
      "0  2021  150000.0000  30000.0000\n",
      "1  2022  154500.0000  30900.0000\n",
      "2  2023  159135.0000  31827.0000\n",
      "3  2024  163909.0500  32781.8100\n",
      "4  2025  168826.3215  33765.2643\n"
     ]
    },
    {
     "output_type": "display_data",
     "data": {
      "image/png": "[encoded data removed]",
      "text/plain": [
       "<Figure size 432x288 with 1 Axes>"
      ]
     },
     "metadata": {
      "needs_background": "light"
     }
    }
   ],
   "metadata": {}
  },
  {
   "cell_type": "markdown",
   "source": [
    "# Total Compensation\n",
    "\n",
    "The moment we've all been waiting for! Here's your predicted total comp. Note that this is an approximation and doesn't include information such as 401k as medical benefits."
   ],
   "metadata": {}
  },
  {
   "cell_type": "code",
   "execution_count": 7,
   "source": [
    "tc = cash_per_year.merge(vest_per_year, left_on=\"Year\", right_on=\"Year\")\r\n",
    "tc.plot(x=0,  kind=\"bar\", stacked=True)\r\n",
    "tc['TC'] = tc[['Salary', 'Bonus', 'Predicted Grants', 'Current Grants']].sum(axis=1)\r\n",
    "print(tc[['Year', 'TC']])"
   ],
   "outputs": [
    {
     "output_type": "stream",
     "name": "stdout",
     "text": [
      "   Year             TC\n",
      "0  2021  238280.404181\n",
      "1  2022  254681.573936\n",
      "2  2023  253051.296198\n",
      "3  2024  257014.492309\n",
      "4  2025  260187.165073\n"
     ]
    },
    {
     "output_type": "display_data",
     "data": {
      "image/png": "[encoded data removed]",
      "text/plain": [
       "<Figure size 432x288 with 1 Axes>"
      ]
     },
     "metadata": {
      "needs_background": "light"
     }
    }
   ],
   "metadata": {}
  }
 ],
 "metadata": {
  "orig_nbformat": 4,
  "language_info": {
   "name": "python",
   "version": "3.7.6",
   "mimetype": "text/x-python",
   "codemirror_mode": {
    "name": "ipython",
    "version": 3
   },
   "pygments_lexer": "ipython3",
   "nbconvert_exporter": "python",
   "file_extension": ".py"
  },
  "kernelspec": {
   "name": "python3",
   "display_name": "Python 3.7.6 64-bit ('base': conda)"
  },
  "interpreter": {
   "hash": "ecf5722fdaf1897a315d257d89d94520bfcaa453217d5becf09b39e73618b0de"
  }
 },
 "nbformat": 4,
 "nbformat_minor": 2
}